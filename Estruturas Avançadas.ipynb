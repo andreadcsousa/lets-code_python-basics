{
 "cells": [
  {
   "cell_type": "markdown",
   "id": "ce4728ec",
   "metadata": {},
   "source": [
    "# Listas\n",
    "\n",
    "Listas são coleções de objetos em Python. Ao invés de declarar uma variável para cada valor que gostaríamos de armazenar, podemos criar uma lista para armazenar vários valores.\n",
    "\n",
    "\n",
    "- Criando uma lista vazia.\n",
    "\n",
    "`listavazia = []`\n",
    "\n",
    "- Criando uma lista com alguns valores.\n",
    "\n",
    "`numeros = [1, 3, 7, 8, 9]`\n",
    "\n",
    "- Listas podem mesclar diferentes tipos de valores.\n",
    "\n",
    "`listamista = [14, \"let's code\", 0.1, True]`\n",
    "\n",
    "### Acessamos cada elemento da lista através de um índice entre colchetes.\n",
    "\n",
    "- Os índices começam em 0.\n",
    "\n",
    "```\n",
    "print(numeros[0])\n",
    "print(numeros[1])\n",
    "print(numeros[2])\n",
    "print(numeros[3])\n",
    "print(numeros[4])\n",
    "```\n",
    "\n",
    "### Listas são mutáveis: podemos alterar o valor de seus itens.\n",
    "\n",
    "```\n",
    "numeros[2] = 5\n",
    "print(numeros)\n",
    "```\n",
    "\n",
    "### Um jeito inteligente de trabalhar com listas é utilizando loops.\n",
    "\n",
    "```\n",
    "indice = 0\n",
    "while indice < 5:\n",
    "    print(numeros[indice])\n",
    "    indice = indice + 1\n",
    "```\n",
    "\n",
    "# Funções de listas\n",
    "\n",
    "Algumas funções podem nos ajudar a trabalhar com listas. Ao percorrermos nossa lista com um while, poderíamos usar len() caso não soubéssemos o comprimento da lista.\n",
    "\n",
    "```\n",
    "indice = 0\n",
    "while indice < len(numeros):\n",
    "    print(numeros[indice])\n",
    "    indice = indice + 1\n",
    "```\n",
    "\n",
    "### Outra função útil é lista.append(), que coloca um elemento novo ao final da lista.\n",
    "\n",
    "```\n",
    "animais = []\n",
    "resposta = 's'\n",
    "while resposta == 's' or resposta == 'S':\n",
    "    resposta = input('Deseja adicionar um animal à lista (s/n)? ')\n",
    "    if (resposta == 's' or resposta == 'S'):\n",
    "        animal = input('Digite o nome do animal: ')\n",
    "        animais.append(animal) # adiciona o novo animal à lista\n",
    "print(animais)\n",
    "```\n",
    "\n",
    "### A função lista.remove() deleta um elemento da lista. (mas dá erro se o elemento não existir).\n",
    "\n",
    "```\n",
    "animal = input('Digite o animal a ser deletado da lista: ')\n",
    "animais.remove(animal)\n",
    "print(animais)\n",
    "```\n",
    "\n",
    "### Algumas outras funções úteis:\n",
    "\n",
    "- lista.count() conta quantas vezes um elemento aparece.\n",
    "\n",
    "```\n",
    "jogadores = ['Ronaldo', 'Rivaldo', 'Ronaldo', 'Adriano']\n",
    "ronaldos = jogadores.count('Ronaldo')\n",
    "print(jogadores)\n",
    "print('Quantidade de Ronaldos: ', ronaldos)\n",
    "```\n",
    "\n",
    "- lista.index() busca em um elemento e fala em qual posição ele aparece.\n",
    "\n",
    "```\n",
    "rivaldo = jogadores.index('Rivaldo')\n",
    "print(\"Rivaldo está na posição \", rivaldo)\n",
    "```\n",
    "\n",
    "- lista.sort() ordena uma lista.\n",
    "\n",
    "```\n",
    "jogadores.sort()\n",
    "print(\"jogadores em ordem alfabética: \", jogadores)\n",
    "```\n",
    "\n",
    "- As funções max(lista) e min(lista) obtém, respectivamente, o maior e o menor valor.\n",
    "\n",
    "```\n",
    "digitos = [3, 1, 4, 1, 5, 9, 2, 6, 5]\n",
    "maior = max(digitos)\n",
    "menor = min(digitos)\n",
    "print(digitos)\n",
    "print(\"Maior = \", maior, \"e menor = \", menor)\n",
    "```\n",
    "\n",
    "# Tuplas\n",
    "\n",
    "### Uma tupla é uma coleção de objetos que lembra muito as listas.\n",
    "\n",
    "- Ao invés de colchetes, usamos parênteses para declarar as tuplas:\n",
    "\n",
    "`numeros = (1,2,3,5,7,11)`\n",
    "\n",
    "- Podemos declarar sem parênteses também:\n",
    "\n",
    "`numeros = 1,2,3,5,7,11`\n",
    "\n",
    "- Para acessar um valor, utilizamos a mesma sintaxe das listas:\n",
    "\n",
    "```\n",
    "print(numeros[4])\n",
    "print(type(numeros))\n",
    "```\n",
    "\n",
    "### Porém, tuplas são imutáveis: não é possível adicionar ou modificar valores.\n",
    "\n",
    "- Descomentar a linha abaixo provocará erro de execução:\n",
    "\n",
    "`# numeros[4] = 8`\n",
    "\n",
    "- Podemos gerar uma tupla a partir de uma lista...\n",
    "\n",
    "```\n",
    "lista1 = [3, 1, 4, 1, 5, 9, 2, 6, 5]\n",
    "tupla1 = tuple(lista1)\n",
    "print(tupla1)\n",
    "```\n",
    "\n",
    "- ...ou uma lista a partir de uma tupla:\n",
    "\n",
    "```\n",
    "tupla2 = [1, 6, 1, 8]\n",
    "lista2 = list(tupla2)\n",
    "print(lista2)\n",
    "```\n",
    "\n",
    "- Também pode-se usar o unpacking com uma tupla:\n",
    "\n",
    "```\n",
    "a, b, c, d, e, f = numeros # \"desempacota\" a tupla numeros\n",
    "print(\"O primeiro vale:\", a, \"e o ultimo vale:\", f)\n",
    "```"
   ]
  },
  {
   "cell_type": "code",
   "execution_count": 1,
   "id": "559c2e70",
   "metadata": {},
   "outputs": [
    {
     "name": "stdout",
     "output_type": "stream",
     "text": [
      "['Brasil', 'Argentina', 'China', 'Canadá', 'Japão']\n"
     ]
    }
   ],
   "source": [
    "nomes_paises = ['Brasil', 'Argentina', 'China', 'Canadá', 'Japão']\n",
    "print(nomes_paises)"
   ]
  },
  {
   "cell_type": "code",
   "execution_count": 2,
   "id": "ebd6387e",
   "metadata": {},
   "outputs": [
    {
     "name": "stdout",
     "output_type": "stream",
     "text": [
      "Tamanho da lista: 5\n"
     ]
    }
   ],
   "source": [
    "print(\"Tamanho da lista:\", len(nomes_paises))"
   ]
  },
  {
   "cell_type": "code",
   "execution_count": 3,
   "id": "da7a7d36",
   "metadata": {},
   "outputs": [
    {
     "name": "stdout",
     "output_type": "stream",
     "text": [
      "País: Japão\n"
     ]
    }
   ],
   "source": [
    "print(\"País:\", nomes_paises[4])"
   ]
  },
  {
   "cell_type": "code",
   "execution_count": 4,
   "id": "f0e5c7d7",
   "metadata": {},
   "outputs": [
    {
     "name": "stdout",
     "output_type": "stream",
     "text": [
      "País: Japão\n"
     ]
    }
   ],
   "source": [
    "print(\"País:\", nomes_paises[-1])"
   ]
  },
  {
   "cell_type": "code",
   "execution_count": 5,
   "id": "15b830c9",
   "metadata": {},
   "outputs": [
    {
     "name": "stdout",
     "output_type": "stream",
     "text": [
      "País: Colômbia\n",
      "['Brasil', 'Argentina', 'China', 'Canadá', 'Colômbia']\n"
     ]
    }
   ],
   "source": [
    "# Substituindo um país da lista\n",
    "nomes_paises[4] = 'Colômbia'\n",
    "\n",
    "print(\"País:\", nomes_paises[4])\n",
    "print(nomes_paises)"
   ]
  },
  {
   "cell_type": "code",
   "execution_count": 6,
   "id": "192490ca",
   "metadata": {},
   "outputs": [
    {
     "name": "stdout",
     "output_type": "stream",
     "text": [
      "['Argentina', 'China']\n"
     ]
    }
   ],
   "source": [
    "print(nomes_paises[1:3])"
   ]
  },
  {
   "cell_type": "code",
   "execution_count": 7,
   "id": "12fb1289",
   "metadata": {},
   "outputs": [
    {
     "name": "stdout",
     "output_type": "stream",
     "text": [
      "['Argentina', 'China', 'Canadá']\n"
     ]
    }
   ],
   "source": [
    "print(nomes_paises[1:-1])"
   ]
  },
  {
   "cell_type": "code",
   "execution_count": 8,
   "id": "939ab7b9",
   "metadata": {},
   "outputs": [
    {
     "name": "stdout",
     "output_type": "stream",
     "text": [
      "['China', 'Canadá', 'Colômbia']\n"
     ]
    }
   ],
   "source": [
    "print(nomes_paises[2:])"
   ]
  },
  {
   "cell_type": "code",
   "execution_count": 9,
   "id": "43a33d0c",
   "metadata": {},
   "outputs": [
    {
     "name": "stdout",
     "output_type": "stream",
     "text": [
      "['Brasil', 'Argentina', 'China']\n"
     ]
    }
   ],
   "source": [
    "print(nomes_paises[:3])"
   ]
  },
  {
   "cell_type": "code",
   "execution_count": 10,
   "id": "cdba1739",
   "metadata": {},
   "outputs": [
    {
     "name": "stdout",
     "output_type": "stream",
     "text": [
      "['Brasil', 'Argentina', 'China', 'Canadá', 'Colômbia']\n"
     ]
    }
   ],
   "source": [
    "print(nomes_paises[:])"
   ]
  },
  {
   "cell_type": "code",
   "execution_count": 11,
   "id": "2c735754",
   "metadata": {},
   "outputs": [
    {
     "name": "stdout",
     "output_type": "stream",
     "text": [
      "['Brasil', 'China', 'Colômbia']\n"
     ]
    }
   ],
   "source": [
    "print(nomes_paises[::2])"
   ]
  },
  {
   "cell_type": "code",
   "execution_count": 12,
   "id": "f2d60ed6",
   "metadata": {},
   "outputs": [
    {
     "name": "stdout",
     "output_type": "stream",
     "text": [
      "['Colômbia', 'Canadá', 'China', 'Argentina', 'Brasil']\n"
     ]
    }
   ],
   "source": [
    "print(nomes_paises[::-1])"
   ]
  },
  {
   "cell_type": "code",
   "execution_count": 13,
   "id": "87e14999",
   "metadata": {},
   "outputs": [
    {
     "name": "stdout",
     "output_type": "stream",
     "text": [
      "True\n"
     ]
    }
   ],
   "source": [
    "print(\"Brasil\" in nomes_paises)"
   ]
  },
  {
   "cell_type": "code",
   "execution_count": 14,
   "id": "f4a6e123",
   "metadata": {},
   "outputs": [
    {
     "name": "stdout",
     "output_type": "stream",
     "text": [
      "False\n"
     ]
    }
   ],
   "source": [
    "print(\"Canadá\" not in nomes_paises)"
   ]
  },
  {
   "cell_type": "code",
   "execution_count": 15,
   "id": "ab0b9095",
   "metadata": {},
   "outputs": [],
   "source": [
    "lista_capitais = []"
   ]
  },
  {
   "cell_type": "code",
   "execution_count": 16,
   "id": "f7589b0a",
   "metadata": {},
   "outputs": [
    {
     "name": "stdout",
     "output_type": "stream",
     "text": [
      "['Brasília', 'Buenos Aires', 'Pequim', 'Bogotá']\n"
     ]
    }
   ],
   "source": [
    "lista_capitais.append(\"Brasília\")\n",
    "lista_capitais.append(\"Buenos Aires\")\n",
    "lista_capitais.append(\"Pequim\")\n",
    "lista_capitais.append(\"Bogotá\")\n",
    "\n",
    "print(lista_capitais)"
   ]
  },
  {
   "cell_type": "code",
   "execution_count": 17,
   "id": "5d076711",
   "metadata": {},
   "outputs": [
    {
     "name": "stdout",
     "output_type": "stream",
     "text": [
      "['Brasília', 'Buenos Aires', 'Paris', 'Pequim', 'Bogotá']\n"
     ]
    }
   ],
   "source": [
    "lista_capitais.insert(2, \"Paris\")\n",
    "print(lista_capitais)"
   ]
  },
  {
   "cell_type": "code",
   "execution_count": 18,
   "id": "c67b7dd6",
   "metadata": {},
   "outputs": [
    {
     "name": "stdout",
     "output_type": "stream",
     "text": [
      "['Brasília', 'Paris', 'Pequim', 'Bogotá']\n"
     ]
    }
   ],
   "source": [
    "lista_capitais.remove(\"Buenos Aires\")\n",
    "print(lista_capitais)"
   ]
  },
  {
   "cell_type": "code",
   "execution_count": 19,
   "id": "adaf5eb1",
   "metadata": {},
   "outputs": [
    {
     "name": "stdout",
     "output_type": "stream",
     "text": [
      "['Brasília', 'Paris', 'Bogotá'] Pequim\n"
     ]
    }
   ],
   "source": [
    "removido = lista_capitais.pop(2)\n",
    "print(lista_capitais, removido)"
   ]
  },
  {
   "cell_type": "code",
   "execution_count": 20,
   "id": "14963da2",
   "metadata": {},
   "outputs": [
    {
     "name": "stdout",
     "output_type": "stream",
     "text": [
      "('Brasil', 'Argentina', 'China', 'Canadá', 'Japão') <class 'tuple'>\n"
     ]
    }
   ],
   "source": [
    "nomes_paises = (\"Brasil\", \"Argentina\", \"China\", \"Canadá\", \"Japão\")\n",
    "print(nomes_paises, type(nomes_paises))"
   ]
  },
  {
   "cell_type": "code",
   "execution_count": 21,
   "id": "c7624441",
   "metadata": {},
   "outputs": [
    {
     "name": "stdout",
     "output_type": "stream",
     "text": [
      "('São Paulo',) <class 'tuple'>\n"
     ]
    }
   ],
   "source": [
    "nome_estado = 'São Paulo',\n",
    "print(nome_estado, type(nome_estado))"
   ]
  },
  {
   "cell_type": "code",
   "execution_count": 22,
   "id": "db5b4379",
   "metadata": {},
   "outputs": [
    {
     "data": {
      "text/plain": [
       "5"
      ]
     },
     "execution_count": 22,
     "metadata": {},
     "output_type": "execute_result"
    }
   ],
   "source": [
    "len(nomes_paises)"
   ]
  },
  {
   "cell_type": "code",
   "execution_count": 23,
   "id": "b446f84c",
   "metadata": {},
   "outputs": [
    {
     "data": {
      "text/plain": [
       "'Brasil'"
      ]
     },
     "execution_count": 23,
     "metadata": {},
     "output_type": "execute_result"
    }
   ],
   "source": [
    "nomes_paises[0]"
   ]
  },
  {
   "cell_type": "code",
   "execution_count": 24,
   "id": "ba5ce567",
   "metadata": {},
   "outputs": [],
   "source": [
    "b, a, c, ca, j = nomes_paises"
   ]
  },
  {
   "cell_type": "code",
   "execution_count": 25,
   "id": "73719af7",
   "metadata": {},
   "outputs": [
    {
     "name": "stdout",
     "output_type": "stream",
     "text": [
      "Brasil China Japão\n"
     ]
    }
   ],
   "source": [
    "print(b, c, j)"
   ]
  },
  {
   "cell_type": "code",
   "execution_count": 26,
   "id": "4601644f",
   "metadata": {},
   "outputs": [
    {
     "name": "stdout",
     "output_type": "stream",
     "text": [
      "Brasil Argentina China Canadá Japão\n"
     ]
    }
   ],
   "source": [
    "print(*nomes_paises)"
   ]
  },
  {
   "cell_type": "markdown",
   "id": "199b30ac",
   "metadata": {},
   "source": [
    "# Funções de strings\n",
    "\n",
    "Suponhamos que temos a seguinte string:\n",
    "\n",
    "`frase = 'uma FRASE'`\n",
    "\n",
    "Podemos acessar individualmente cada caractere em uma frase.\n",
    "\n",
    "### A ideia é a mesma de acessar uma lista:\n",
    "\n",
    "```\n",
    "print(frase[0])\n",
    "print(frase[1])\n",
    "print(frase[2])\n",
    "\n",
    "tamanho = len(frase)\n",
    "print(\"A frase possui\", tamanho, \"caracteres\")\n",
    "```\n",
    "\n",
    "Porém, strings são imutáveis: não podemos alterar caracteres individuais\n",
    "\n",
    "### A linha abaixo, se for descomentada, dará erro no programa:\n",
    "\n",
    "`frase[4] = 'C'`\n",
    "\n",
    "### Podemos converter strings para listas:\n",
    "\n",
    "```\n",
    "listafrase = list(frase)\n",
    "print(listafrase)\n",
    "```\n",
    "\n",
    "### A função join() intercala cada elemento de uma lista com uma string.\n",
    "\n",
    "```\n",
    "stringfinal = '-py'.join(listafrase)\n",
    "print(stringfinal)\n",
    "```\n",
    "\n",
    "### Usar um join() com uma string vazia é útil para transformar a lista de volta em string:\n",
    "\n",
    "```\n",
    "stringfinal = ''.join(listafrase)\n",
    "print(stringfinal)\n",
    "```\n",
    "\n",
    "### Existem algumas funções interessantes que retornam a string \"tratada\":\n",
    "\n",
    "```\n",
    "s1 = frase.capitalize()      # apenas a 1ª letra em maiúscula\n",
    "s2 = frase.title()           # 1ª letra de cada palavra em maiúscula\n",
    "s3 = frase.upper()           # string inteira em maiúscula\n",
    "s4 = frase.lower()           # string inteira em minúscula\n",
    "s5 = frase.replace('F', 'C') # substitui uma substring pela outra\n",
    "\n",
    "print(s1)\n",
    "print(s2)\n",
    "print(s3)\n",
    "print(s4)\n",
    "print(s5)\n",
    "```\n",
    "\n",
    "Note que NENHUMA delas ALTERA a string original, elas sempre retornam a string nova.\n",
    "\n",
    "`print('String original:', frase)`\n",
    "\n",
    "### Outra possibilidade com strings é quebrar a string em uma lista de substrings. Sempre que o caractere especificado é encontrado, a string é quebrada:\n",
    "\n",
    "```\n",
    "quebra1 = frase.split(' ') # quebra a frase no espaço em branco\n",
    "quebra2 = s3.split('A')    # quebra a frase no 'A' maiúsculo\n",
    "\n",
    "print(quebra1)\n",
    "print(quebra2)\n",
    "```\n",
    "\n",
    "### Podemos inserir quebras de linha com '\\n'\n",
    "\n",
    "```\n",
    "frase = 'uma\\nFRASE'\n",
    "print(frase)\n",
    "```\n",
    "\n",
    "### Podemos inserir tabulação com '\\t'\n",
    "\n",
    "```\n",
    "frase = 'uma\\n\\tFRASE'\n",
    "print(frase)\n",
    "```\n",
    "\n",
    "### Para conseguir representar a barra '\\', precisamos de 2 barras:\n",
    "\n",
    "`frase = 'uma\\\\FRASE'`\n",
    "\n",
    "Acesse a documentação de Strings do Python 3 [aqui](https://docs.python.org/3.8/library/stdtypes.html#str)."
   ]
  },
  {
   "cell_type": "code",
   "execution_count": 27,
   "id": "6f45cc69",
   "metadata": {},
   "outputs": [
    {
     "name": "stdout",
     "output_type": "stream",
     "text": [
      "Google\n"
     ]
    }
   ],
   "source": [
    "empresa = \"Google\"\n",
    "print(empresa)"
   ]
  },
  {
   "cell_type": "code",
   "execution_count": 28,
   "id": "ca8657c4",
   "metadata": {},
   "outputs": [
    {
     "name": "stdout",
     "output_type": "stream",
     "text": [
      "Google\n"
     ]
    }
   ],
   "source": [
    "empresa = 'Google'\n",
    "print(empresa)"
   ]
  },
  {
   "cell_type": "code",
   "execution_count": 29,
   "id": "3e0ec805",
   "metadata": {},
   "outputs": [
    {
     "name": "stdout",
     "output_type": "stream",
     "text": [
      "Let's Code\n"
     ]
    }
   ],
   "source": [
    "empresa = \"Let's Code\"\n",
    "print(empresa)"
   ]
  },
  {
   "cell_type": "code",
   "execution_count": 30,
   "id": "4e146b89",
   "metadata": {},
   "outputs": [
    {
     "name": "stdout",
     "output_type": "stream",
     "text": [
      "O professor Pietro da Let's Code disse: \"Hoje a pizza é por minha conta\"\n"
     ]
    }
   ],
   "source": [
    "frase = \"O professor Pietro da Let's Code disse: \\\"Hoje a pizza é por minha conta\\\"\"\n",
    "print(frase)"
   ]
  },
  {
   "cell_type": "code",
   "execution_count": 31,
   "id": "521fa1fd",
   "metadata": {},
   "outputs": [
    {
     "name": "stdout",
     "output_type": "stream",
     "text": [
      "G\n"
     ]
    }
   ],
   "source": [
    "empresa = \"Google\"\n",
    "print(empresa[0])"
   ]
  },
  {
   "cell_type": "code",
   "execution_count": 32,
   "id": "88c79811",
   "metadata": {},
   "outputs": [
    {
     "name": "stdout",
     "output_type": "stream",
     "text": [
      "Goo\n"
     ]
    }
   ],
   "source": [
    "print(empresa[:3])"
   ]
  },
  {
   "cell_type": "code",
   "execution_count": 33,
   "id": "bd204f1b",
   "metadata": {},
   "outputs": [
    {
     "name": "stdout",
     "output_type": "stream",
     "text": [
      "['São Paulo', 'Belo Horizonte', 'Rio de Janeiro', 'Brasília']\n"
     ]
    }
   ],
   "source": [
    "nomes_cidades = \"São Paulo, Belo Horizonte, Rio de Janeiro, Brasília\"\n",
    "nomes_cidades = nomes_cidades.split(', ')\n",
    "print(nomes_cidades)"
   ]
  },
  {
   "cell_type": "code",
   "execution_count": 34,
   "id": "45d02205",
   "metadata": {},
   "outputs": [
    {
     "name": "stdout",
     "output_type": "stream",
     "text": [
      "MENU PRINCIPAL\n"
     ]
    }
   ],
   "source": [
    "cabecalho = \"              MENU PRINCIPAL              \"\n",
    "print(cabecalho.strip())"
   ]
  },
  {
   "cell_type": "code",
   "execution_count": 35,
   "id": "047ef29b",
   "metadata": {},
   "outputs": [
    {
     "name": "stdout",
     "output_type": "stream",
     "text": [
      "Rio De Janeiro\n",
      "Rio de janeiro\n",
      "rio de janeiro\n",
      "RIO DE JANEIRO\n"
     ]
    }
   ],
   "source": [
    "nome_cidade = \"rIo DE jaNeirO\"\n",
    "\n",
    "print(nome_cidade.title()) # Rio De Janeiro\n",
    "print(nome_cidade.capitalize()) # Rio de janeiro\n",
    "print(nome_cidade.lower()) # rio de janeiro\n",
    "print(nome_cidade.upper()) # RIO DE JANEIRO"
   ]
  },
  {
   "cell_type": "code",
   "execution_count": 36,
   "id": "12df0300",
   "metadata": {},
   "outputs": [
    {
     "name": "stdout",
     "output_type": "stream",
     "text": [
      "Que cidade do Brasil é conhecida como cidade maravilhosa? Rio de Janeiro\n",
      "Boa, campeão!\n"
     ]
    }
   ],
   "source": [
    "nome_cidade = input(\"Que cidade do Brasil é conhecida como cidade maravilhosa? \")\n",
    "nome_cidade = nome_cidade.strip()\n",
    "while nome_cidade.lower() != 'rio de janeiro':\n",
    "    print(\"Tenta de novo, vai!\")\n",
    "    nome_cidade = input(\"Que cidade do Brasil é conhecida como cidade maravilhosa? \")\n",
    "\n",
    "print(\"Boa, campeão!\")"
   ]
  },
  {
   "cell_type": "code",
   "execution_count": 37,
   "id": "6c0cbd26",
   "metadata": {},
   "outputs": [
    {
     "name": "stdout",
     "output_type": "stream",
     "text": [
      "True\n"
     ]
    }
   ],
   "source": [
    "mensagem = \"Você viu o que o Pietro disse na sala ontem?\"\n",
    "fui_citado = \"Pietro\" in mensagem\n",
    "print(fui_citado)"
   ]
  },
  {
   "cell_type": "markdown",
   "id": "9735dfdb",
   "metadata": {},
   "source": [
    "# Uso de operadores aritméticos com strings\n",
    "\n",
    "Dois operadores aritméticos possuem um comportamento especial em strings:\n",
    "\n",
    "- Operador de soma (+): concatena (une) 2 strings.\n",
    "\n",
    "```\n",
    "palavra1 = \"Let's\"\n",
    "palavra2 = \"Code\"\n",
    "palavra3 = palavra1 + palavra2\n",
    "print(palavra3)\n",
    "```\n",
    "\n",
    "- Operador de multiplicação (*): copia uma string 'n' vezes:\n",
    "\n",
    "```\n",
    "palavra = 'uma'\n",
    "trespalavras = 3*palavra\n",
    "print(trespalavras)\n",
    "```\n",
    "\n",
    "# Formatação de strings\n",
    "\n",
    "Uma última função interessante de strings é o .format() Para entender como ela funciona, podemos pensar em um contrato. É normal que ele venha com campos em branco para serem preenchidos posteriormente. Ex:\n",
    "\n",
    "**Eu, ______________, portador do RG ________________ e nascido ao dia //, autorizo o uso de minha imagem.**\n",
    "\n",
    "Ao inserirmos no contrato nossas informações pessoais, ele se torna completo.\n",
    "\n",
    "- O .format() serve para \"preencher\" os \"campos em branco\" de uma string.\n",
    "- Os campos em branco serão representados por pares de chave: {}\n",
    "\n",
    "```\n",
    "prod = 'chocolate'\n",
    "preco = 3.14\n",
    "print('O produto {} custa {}.'.format(prod, preco))\n",
    "```\n",
    "\n",
    "### Na linha acima, prod substituirá o primeiro {}, e preco o segundo {}.\n",
    "\n",
    "- Saída: O produto chocolate custa 3.14.\n",
    "\n",
    "### É possível colocar algumas opções especiais de formatação. Por exemplo:\n",
    "\n",
    "`stringoriginal = 'O litro da gasolina custa {:.2f}'`\n",
    "\n",
    " **:** indica que passaremos opções  \n",
    "**.2** indica apenas 2 casas após o ponto decimal  \n",
    " **f** indica que é um float  \n",
    "\n",
    "```\n",
    "preco = 3.14159265\n",
    "stringcompleta = stringoriginal.format(preco)\n",
    "print(stringcompleta)\n",
    "```\n",
    "\n",
    "- Saída: O litro da gasolina custa 3.14\n",
    "- O preço sai com apenas 2 casas após a vírgula!\n",
    "\n",
    "### Pode-se chamar as variávies em diferentes ordens:\n",
    "\n",
    "`print('{2}, {1} and {0}'.format('a', 'b', 'c'))`\n",
    "\n",
    "- Saída: c, b and a\n",
    "\n",
    "`print('{0}{1}{0}'.format('abra', 'cad'))`\n",
    "\n",
    "- Saída: abracadabra\n",
    "\n",
    "### Podemos especificar um número de dígitos obrigatório por campo. Vejamos o exemplo:\n",
    "\n",
    "```\n",
    "dia = 1\n",
    "mes = 8\n",
    "ano = 2019\n",
    "data1 = '{}/{}/{}'.format(dia, mes, ano)\n",
    "print(data1)\n",
    "```\n",
    "\n",
    "- Saída: 1/8/2019\n",
    "- O dia e o mês ocupam apenas 1 espaço\n",
    "\n",
    "`data2 = '{:2d}/{:2d}/{:4d}'.format(dia, mes, ano)`\n",
    "\n",
    "### A opção 'd' significa que o parâmetro é um número inteiro.\n",
    "\n",
    "`print(data2)`\n",
    "\n",
    "- Saída:  1/ 8/2019\n",
    "- Agora, dia e mês ocupam obrigatoriamente 2 espaços:  1/ 8/2019\n",
    "\n",
    "### Podemos forçar que os espaços em branco sejam preenchidos com o número 0:\n",
    "\n",
    "```\n",
    "data3 = '{:02d}/{:02d}/{:04d}'.format(dia, mes, ano)\n",
    "print(data3)\n",
    "```\n",
    "\n",
    "- Saída: 01/08/2019\n",
    "- Agora sim a data está no formato usual, dd/mm/aaaa: 01/08/2019\n",
    "\n",
    "### Um modo mais simples de utilizar o format:\n",
    "\n",
    "```\n",
    "nome = \"Pietro\"\n",
    "profissao = \"professor\"\n",
    "escola = \"Let's Code\"\n",
    "```\n",
    "\n",
    "`print(f\"{nome} é {profissao} da {escola}.\")`\n",
    "\n",
    "- Saída: Pietro é professor da Let's Code.\n",
    "\n",
    "O .format() possui muitas opções interessantes. Há um site inteiro dedicado a explicar e exemplificar todas essas opções, o [Pyformat](https://pyformat.info)."
   ]
  },
  {
   "cell_type": "code",
   "execution_count": 38,
   "id": "c6c9f211",
   "metadata": {},
   "outputs": [
    {
     "name": "stdout",
     "output_type": "stream",
     "text": [
      "Olá, Felipe\n"
     ]
    }
   ],
   "source": [
    "cumprimento = \"Olá, \"\n",
    "nome = \"Felipe\"\n",
    "print(cumprimento + nome)"
   ]
  },
  {
   "cell_type": "code",
   "execution_count": 39,
   "id": "1a4fb133",
   "metadata": {},
   "outputs": [
    {
     "name": "stdout",
     "output_type": "stream",
     "text": [
      "FelipeFelipeFelipeFelipeFelipe\n"
     ]
    }
   ],
   "source": [
    "print(nome * 5)"
   ]
  },
  {
   "cell_type": "code",
   "execution_count": 40,
   "id": "004a5159",
   "metadata": {},
   "outputs": [
    {
     "name": "stdout",
     "output_type": "stream",
     "text": [
      "Felipe tem 35 anos e 2 filhos\n"
     ]
    }
   ],
   "source": [
    "nome = \"Felipe\"\n",
    "idade = 35\n",
    "filhos = 2\n",
    "print(nome + ' tem ' + str(idade) + ' anos e ' + str(filhos) + ' filhos')"
   ]
  },
  {
   "cell_type": "code",
   "execution_count": 41,
   "id": "1cd7115d",
   "metadata": {},
   "outputs": [
    {
     "name": "stdout",
     "output_type": "stream",
     "text": [
      "Felipe tem 35 anos e 2 filhos\n"
     ]
    }
   ],
   "source": [
    "print(\"{} tem {} anos e {} filhos\".format(nome, idade, filhos))"
   ]
  },
  {
   "cell_type": "code",
   "execution_count": 42,
   "id": "090cdcfb",
   "metadata": {},
   "outputs": [
    {
     "name": "stdout",
     "output_type": "stream",
     "text": [
      "O preço da gasolina hoje subiu e está em R$ 3.48\n"
     ]
    }
   ],
   "source": [
    "preco_gasolina = 3.476\n",
    "print(\"O preço da gasolina hoje subiu e está em R$ {:.2f}\".format(preco_gasolina))"
   ]
  },
  {
   "cell_type": "code",
   "execution_count": 43,
   "id": "124ac5ca",
   "metadata": {},
   "outputs": [
    {
     "name": "stdout",
     "output_type": "stream",
     "text": [
      "Felipe tem 35 anos e 2 filhos\n"
     ]
    }
   ],
   "source": [
    "print(f'{nome} tem {idade} anos e {filhos} filhos')"
   ]
  },
  {
   "cell_type": "markdown",
   "id": "9de4feac",
   "metadata": {},
   "source": [
    "# Dicionários\n",
    "\n",
    "Um dicionário é uma coleção, assim como as listas e as tuplas. Porém, enquanto as tuplas eram indexadas por um índice, os dicionários são indexados por chaves. Todo elemento em um dicionário possui uma chave e um valor. Chaves tipicamente são strings, valores podem ser qualquer tipo de dado.\n",
    "\n",
    "- O dicionário é definido pelos símbolos { e }\n",
    "\n",
    "`dicionario = {}`\n",
    "\n",
    "- O dicionário não possui um \"append\"\n",
    "\n",
    "### Adicionamos valores diretamente:\n",
    "\n",
    "```\n",
    "dicionario['cat'] = 'gato'\n",
    "dicionario['dog'] = 'cachorro'\n",
    "dicionario['mouse'] = 'rato'\n",
    "\n",
    "print(dicionario)\n",
    "print(type(dicionario))\n",
    "```\n",
    "\n",
    "### Saída:\n",
    "\n",
    "```\n",
    "{'cat': 'gato', 'dog': 'cachorro', 'mouse': 'rato'}\n",
    "<class 'dict'>\n",
    "```\n",
    "\n",
    "- Dicionários, assim como as listas, são mutáveis:\n",
    "\n",
    "```\n",
    "dicionario['dog'] = 'cão'\n",
    "print(dicionario)\n",
    "```\n",
    "\n",
    "`Saída: {'cat': 'gato', 'dog': 'cão', 'mouse': 'rato'}`\n",
    "\n",
    "- Podemos criar o dicionário diretamente também:\n",
    "\n",
    "```\n",
    "dicionario2 = {'Curso': 'Python Pro', 'Linguagem':'Python', 'Módulo':2}\n",
    "print(dicionario2)\n",
    "```\n",
    "\n",
    "`Saída: {'Curso': 'Python Pro', 'Linguagem': 'Python', 'Módulo': 2}`\n",
    "\n",
    "- Podemos utilizar o operador \"in\" para verificar se uma chave existe:\n",
    "\n",
    "```\n",
    "if 'cat' in dicionario:\n",
    "    print('cat existe!') # Sim\n",
    "if 'bird' in dicionario:\n",
    "    print('bird existe!') # Não\n",
    "if 'gato' in dicionario:\n",
    "    print('gato existe!') # Não\n",
    "```\n",
    "\n",
    "### Também podemos utilizar as funções .keys() e .values() para obter listas com apenas as chaves ou apenas os valores do dicionário:\n",
    "\n",
    "```\n",
    "chaves = dicionario.keys()\n",
    "print(chaves)\n",
    "```\n",
    "\n",
    "`Saída: dict_keys(['cat', 'dog', 'mouse'])`\n",
    "\n",
    "```\n",
    "valores = dicionario.values()\n",
    "print(valores)\n",
    "```\n",
    "\n",
    "`Saída: dict_values(['gato', 'cão', 'rato'])`\n",
    "\n",
    "### Já a função .items(), retorna uma lista de tuplas (chave, valor) de um dicionário:\n",
    "\n",
    "```\n",
    "itens = dicionario.items()\n",
    "print(itens)\n",
    "```\n",
    "\n",
    "Saída: dict_items([('cat', 'gato'), ('dog', 'cão'), ('mouse', 'rato')])"
   ]
  },
  {
   "cell_type": "code",
   "execution_count": 44,
   "id": "f5bfe982",
   "metadata": {},
   "outputs": [],
   "source": [
    "dados_cidade = {\n",
    "    'nome': 'Salvador',\n",
    "    'estado': 'Bahia',\n",
    "    'area': 694,\n",
    "    'populacao': 2.9\n",
    "}"
   ]
  },
  {
   "cell_type": "code",
   "execution_count": 45,
   "id": "56c328cf",
   "metadata": {},
   "outputs": [
    {
     "name": "stdout",
     "output_type": "stream",
     "text": [
      "<class 'dict'>\n"
     ]
    }
   ],
   "source": [
    "print(type(dados_cidade))"
   ]
  },
  {
   "cell_type": "code",
   "execution_count": 46,
   "id": "4c75140d",
   "metadata": {},
   "outputs": [
    {
     "name": "stdout",
     "output_type": "stream",
     "text": [
      "{'nome': 'Salvador', 'estado': 'Bahia', 'area': 694, 'populacao': 2.9}\n"
     ]
    }
   ],
   "source": [
    "print(dados_cidade)"
   ]
  },
  {
   "cell_type": "code",
   "execution_count": 47,
   "id": "143f35d0",
   "metadata": {},
   "outputs": [],
   "source": [
    "dados_cidade['pais'] = 'Brasil'"
   ]
  },
  {
   "cell_type": "code",
   "execution_count": 48,
   "id": "9addc8db",
   "metadata": {},
   "outputs": [
    {
     "name": "stdout",
     "output_type": "stream",
     "text": [
      "{'nome': 'Salvador', 'estado': 'Bahia', 'area': 694, 'populacao': 2.9, 'pais': 'Brasil'}\n"
     ]
    }
   ],
   "source": [
    "print(dados_cidade)"
   ]
  },
  {
   "cell_type": "code",
   "execution_count": 49,
   "id": "a3685c77",
   "metadata": {},
   "outputs": [
    {
     "name": "stdout",
     "output_type": "stream",
     "text": [
      "Salvador\n"
     ]
    }
   ],
   "source": [
    "print(dados_cidade['nome'])"
   ]
  },
  {
   "cell_type": "code",
   "execution_count": 50,
   "id": "ba63b8ed",
   "metadata": {},
   "outputs": [
    {
     "name": "stdout",
     "output_type": "stream",
     "text": [
      "{'nome': 'Salvador', 'estado': 'Bahia', 'area': 693, 'populacao': 2.9, 'pais': 'Brasil'}\n"
     ]
    }
   ],
   "source": [
    "dados_cidade['area'] = 693\n",
    "print(dados_cidade)"
   ]
  },
  {
   "cell_type": "code",
   "execution_count": 51,
   "id": "caaf1cee",
   "metadata": {},
   "outputs": [],
   "source": [
    "dados_cidade_2 = dados_cidade"
   ]
  },
  {
   "cell_type": "code",
   "execution_count": 52,
   "id": "92accd5c",
   "metadata": {},
   "outputs": [],
   "source": [
    "dados_cidade_2['nome'] = 'Camaçari'"
   ]
  },
  {
   "cell_type": "code",
   "execution_count": 53,
   "id": "6ae96ac8",
   "metadata": {},
   "outputs": [
    {
     "name": "stdout",
     "output_type": "stream",
     "text": [
      "{'nome': 'Camaçari', 'estado': 'Bahia', 'area': 693, 'populacao': 2.9, 'pais': 'Brasil'}\n"
     ]
    }
   ],
   "source": [
    "print(dados_cidade_2)"
   ]
  },
  {
   "cell_type": "code",
   "execution_count": 54,
   "id": "b3e06491",
   "metadata": {},
   "outputs": [],
   "source": [
    "dados_cidade_3 = dados_cidade.copy()"
   ]
  },
  {
   "cell_type": "code",
   "execution_count": 55,
   "id": "bfc61a96",
   "metadata": {},
   "outputs": [],
   "source": [
    "dados_cidade_3['estado'] = 'Sergipe'"
   ]
  },
  {
   "cell_type": "code",
   "execution_count": 56,
   "id": "58212259",
   "metadata": {},
   "outputs": [
    {
     "name": "stdout",
     "output_type": "stream",
     "text": [
      "{'nome': 'Camaçari', 'estado': 'Bahia', 'area': 693, 'populacao': 2.9, 'pais': 'Brasil'}\n"
     ]
    }
   ],
   "source": [
    "print(dados_cidade)"
   ]
  },
  {
   "cell_type": "code",
   "execution_count": 57,
   "id": "43634132",
   "metadata": {},
   "outputs": [
    {
     "name": "stdout",
     "output_type": "stream",
     "text": [
      "{'nome': 'Camaçari', 'estado': 'Bahia', 'area': 693, 'populacao': 3, 'pais': 'Brasil', 'fundacao': '29/03/1952'}\n"
     ]
    }
   ],
   "source": [
    "novos_dados = {\n",
    "    'populacao': 3,\n",
    "    'fundacao': '29/03/1952'\n",
    "}\n",
    "\n",
    "dados_cidade.update(novos_dados)\n",
    "print(dados_cidade)"
   ]
  },
  {
   "cell_type": "code",
   "execution_count": 58,
   "id": "418f1c34",
   "metadata": {},
   "outputs": [
    {
     "name": "stdout",
     "output_type": "stream",
     "text": [
      "None\n"
     ]
    }
   ],
   "source": [
    "print(dados_cidade.get('prefeito'))"
   ]
  },
  {
   "cell_type": "code",
   "execution_count": 59,
   "id": "6e165e03",
   "metadata": {},
   "outputs": [
    {
     "name": "stdout",
     "output_type": "stream",
     "text": [
      "dict_keys(['nome', 'estado', 'area', 'populacao', 'pais', 'fundacao'])\n",
      "---\n",
      "dict_values(['Camaçari', 'Bahia', 693, 3, 'Brasil', '29/03/1952'])\n",
      "---\n",
      "dict_items([('nome', 'Camaçari'), ('estado', 'Bahia'), ('area', 693), ('populacao', 3), ('pais', 'Brasil'), ('fundacao', '29/03/1952')])\n"
     ]
    }
   ],
   "source": [
    "print(dados_cidade.keys()) # retorna uma lista de chaves de um dicionário\n",
    "print('---')\n",
    "print(dados_cidade.values()) # retorna uma lista de valores de um dicionário\n",
    "print('---')\n",
    "print(dados_cidade.items()) # retorna uma lista de tuplas (chave, valor) de um dicionário"
   ]
  },
  {
   "cell_type": "markdown",
   "id": "3be730fd",
   "metadata": {},
   "source": [
    "# Percorrendo coleções\n",
    "\n",
    "O for é um tipo especial de loop feito para percorrer elementos de uma coleção. Acima vimos exemplos usando um while e um contador para percorrer uma lista. O for elimina a necessidade de inicializarmos um contador, incrementarmos e verificar a condição de parada. Sintaxe:\n",
    "\n",
    "```\n",
    "for (variável temporária) in (lista):\n",
    "    # instruções...\n",
    "    # ...\n",
    "```\n",
    "\n",
    "O for se repete uma vez para cada elemento da lista. A cada repetição, a variável temporária assume o valor de um elemento da lista, na ordem da lista.\n",
    "\n",
    "```\n",
    "fib = [1, 1, 2, 3, 5, 8, 13]\n",
    "for elemento in fib:\n",
    "    print(elemento)\n",
    "```\n",
    "\n",
    "# Percorrendo sequências numéricas\n",
    "\n",
    "O for pode ser usado, junto com a função range(), para gerar sequências numéricas e contagens. Existem 3 meios de usar o range(): especificando 1, 2 ou 3 parâmetros.\n",
    "\n",
    "- Com 1 parâmetro, ele será interpretado como valor final (exclusivo).\n",
    "- O valor inicial será 0 e o incremento será 1.\n",
    "\n",
    "```\n",
    "for numero in range(10):\n",
    "    print(numero)\n",
    "    # este exemplo imprime os números de 0 a 9, de um em um\n",
    "```\n",
    "\n",
    "- Com 2 parâmetros, o primeiro será o valor inicial (inclusivo) e o segundo será o final (exclusivo).\n",
    "- O incremento continuará sendo 1.\n",
    "\n",
    "```\n",
    "for numero in range(1,11):\n",
    "    print(numero)\n",
    "    # este exemplo imprime os números de 1 a 10, de um em um\n",
    "```\n",
    "\n",
    "- Com 3 parâmetros, o terceiro será interpretado como incremento.\n",
    "\n",
    "```\n",
    "for numero in range(1,20,2):\n",
    "    print(numero)\n",
    "    # este exemplo imprime os ímpares positivos menores do que 20\n",
    "    # ele começa valendo 1 e salta de 2 em 2 até atingir ou passar 20\n",
    "```\n",
    "\n",
    "- O incremento pode ser também um decremento (incremento negativo).\n",
    "\n",
    "```\n",
    "for numero in range (10,0,-1):\n",
    "    print(numero)\n",
    "    #Imprimindo os números de 1 a 10 em ordem decrescente\n",
    "```"
   ]
  },
  {
   "cell_type": "code",
   "execution_count": 60,
   "id": "9407691a",
   "metadata": {},
   "outputs": [
    {
     "name": "stdout",
     "output_type": "stream",
     "text": [
      "São Paulo\n",
      "Londres\n",
      "Tóquio\n",
      "Paris\n"
     ]
    }
   ],
   "source": [
    "nomes_cidades = ['São Paulo', 'Londres', 'Tóquio', 'Paris']\n",
    "for nome in nomes_cidades:\n",
    "    print(nome)"
   ]
  },
  {
   "cell_type": "code",
   "execution_count": 61,
   "id": "c1d2cff6",
   "metadata": {},
   "outputs": [
    {
     "name": "stdout",
     "output_type": "stream",
     "text": [
      "São Paulo\n",
      "Londres\n",
      "Tóquio\n",
      "Paris\n"
     ]
    }
   ],
   "source": [
    "contador = 0\n",
    "nomes_cidades = ['São Paulo', 'Londres', 'Tóquio', 'Paris']\n",
    "while contador < len(nomes_cidades):\n",
    "    print(nomes_cidades[contador])\n",
    "    contador = contador + 1"
   ]
  },
  {
   "cell_type": "code",
   "execution_count": 62,
   "id": "a8956296",
   "metadata": {},
   "outputs": [
    {
     "name": "stdout",
     "output_type": "stream",
     "text": [
      "São Paulo\n",
      "Londres\n",
      "Tóquio\n",
      "Paris\n"
     ]
    }
   ],
   "source": [
    "nomes_cidades = 'São Paulo', 'Londres', 'Tóquio', 'Paris'\n",
    "for nome in nomes_cidades:\n",
    "    print(nome)"
   ]
  },
  {
   "cell_type": "code",
   "execution_count": 63,
   "id": "6f38976d",
   "metadata": {},
   "outputs": [
    {
     "name": "stdout",
     "output_type": "stream",
     "text": [
      "nome: Salvador\n",
      "estado: Bahia\n",
      "populacao: 2.9\n"
     ]
    }
   ],
   "source": [
    "cidade = {\n",
    "    'nome': 'Salvador',\n",
    "    'estado': 'Bahia',\n",
    "    'populacao': 2.9\n",
    "}\n",
    "for chave in cidade:\n",
    "    print(f'{chave}: {cidade[chave]}')"
   ]
  },
  {
   "cell_type": "code",
   "execution_count": 64,
   "id": "93bd959f",
   "metadata": {},
   "outputs": [
    {
     "name": "stdout",
     "output_type": "stream",
     "text": [
      "['São Paulo', 'Londres', 'Tóquio', 'Paris']\n"
     ]
    }
   ],
   "source": [
    "nomes_cidades = ['São Paulo', 'Londres', 'Tóquio', 'Paris']\n",
    "for nome in nomes_cidades:\n",
    "    nome = 'Rio de Janeiro'\n",
    "print(nomes_cidades)"
   ]
  },
  {
   "cell_type": "code",
   "execution_count": 65,
   "id": "d2d8bbf2",
   "metadata": {},
   "outputs": [
    {
     "name": "stdout",
     "output_type": "stream",
     "text": [
      "0\n",
      "1\n",
      "2\n",
      "3\n"
     ]
    }
   ],
   "source": [
    "for posicao in range(len(nomes_cidades)):\n",
    "    print(posicao)"
   ]
  },
  {
   "cell_type": "code",
   "execution_count": 66,
   "id": "9e0f5d48",
   "metadata": {},
   "outputs": [
    {
     "name": "stdout",
     "output_type": "stream",
     "text": [
      "['Rio de Janeiro', 'Rio de Janeiro', 'Rio de Janeiro', 'Rio de Janeiro']\n"
     ]
    }
   ],
   "source": [
    "for posicao in range(len(nomes_cidades)):\n",
    "    nomes_cidades[posicao] = 'Rio de Janeiro'\n",
    "print(nomes_cidades)"
   ]
  },
  {
   "cell_type": "code",
   "execution_count": 67,
   "id": "acf8f538",
   "metadata": {},
   "outputs": [
    {
     "name": "stdout",
     "output_type": "stream",
     "text": [
      "[0, 1, 2, 3, 4, 5, 6, 7, 8, 9]\n",
      "[2, 3, 4, 5, 6, 7, 8, 9]\n",
      "[2, 4, 6, 8]\n"
     ]
    }
   ],
   "source": [
    "print(list(range(10)))\n",
    "print(list(range(2, 10)))\n",
    "print(list(range(2, 10, 2)))"
   ]
  },
  {
   "cell_type": "markdown",
   "id": "61e4d89e",
   "metadata": {},
   "source": [
    "# Funções\n",
    "\n",
    "Funções são uma espécie de \"subprograma\". Elas são como pequenos pedacinhos de programa que podem ser chamadas pelo nome. Para criar uma função usamos o comando \"def\" e o nome da função. Elas são um bloco de comando assim como if/elif/else, while e for.\n",
    "\n",
    "```\n",
    "def hello():\n",
    "    print(\"Olá, mundo!\")\n",
    "```\n",
    "\n",
    "Quando uma função é chamada pelo nome, o fluxo do programa é interrompido. Em seguida, a função inteira é executada, e ao final dela, o programa volta a ser executado do mesmo ponto que parou.\n",
    "\n",
    "`hello()`\n",
    "\n",
    "- Saída: Olá, mundo!\n",
    "\n",
    "É possível passarmos informações para uma função. Chamamos essas informações de \"parâmetros\" ou \"argumentos. Na definição da função, daremos nome a esses parâmetros. Dentro da função, eles serão tratados como se fossem variáveis.\n",
    "\n",
    "```\n",
    "def ola(nome):\n",
    "    print(\"Olá\", nome)\n",
    "```\n",
    "\n",
    "Ao chamarmos a nossa funcao, passamos os parâmetros entre parênteses. O nome ou valor passado não precisam ser iguais aos declarados na função! O nome do parâmetro interno da função é um \"apelido\" que a função dará para o valor ou variável que passamos.\n",
    "\n",
    "`ola(\"Maria\")`\n",
    "\n",
    "- Saída: Olá, Maria\n",
    "\n",
    "```\n",
    "aluno = \"João\"\n",
    "ola(aluno)\n",
    "```\n",
    "\n",
    "- Saída: Olá, João\n",
    "\n",
    "### A função pode receber vários parâmetros separados por vírgula.\n",
    "\n",
    "```\n",
    "def dadosPessoais(nome, idade, cidade):\n",
    "    print(\"Seu nome é {}, você tem {} anos e mora em {}.\".format(nome, idade, cidade))\n",
    "\n",
    "dadosPessoais(\"José\", 30, \"Maceió\")\n",
    "```\n",
    "\n",
    "- Saída: Seu nome é José, você tem 30 anos e mora em Maceió.\n",
    "\n",
    "Os parâmetros podem ser passados fora de ordem. Porém, para isso precisamos explicitar qual parâmetro estamos passando, para evitar ambiguidade ou erros de interpretação do Python.\n",
    "\n",
    "`dadosPessoais(idade=56, cidade=\"Florianópolis\", nome=\"Ana\")`\n",
    "\n",
    "- Saída: Seu nome é Ana, você tem 56 anos e mora em Florianópolis.\n",
    "\n",
    "# Funções com resposta\n",
    "\n",
    "Uma função pode ter uma \"resposta\". Por exemplo, nossa função pode ser uma conta, e o resultado da conta pode ser útil em nosso programa. Dizemos que essas funções \"retornam\" um valor. Utilizamos a palavra \"return\" para fazer uma função retornar sua resposta. Quando uma função retorna um valor, ela pode ser usada em expressões matemáticas ou lógicas, ter seu valor atribuído a uma variável, etc.\n",
    "\n",
    "```\n",
    "def somatorio(lista):\n",
    "    soma = 0\n",
    "    for item in lista:\n",
    "        soma = soma + item\n",
    "    return soma\n",
    "\n",
    "numeros = [1, 2, 3, 4, 5]\n",
    "soma_dos_numeros = somatorio(numeros)\n",
    "print(\"A soma dos elementos da lista vale: \", soma_dos_numeros)\n",
    "\n",
    "if somatorio(numeros) > 50:\n",
    "    print(\"Que soma grande!\")\n",
    "else:\n",
    "    print(\"Que soma pequena!\")\n",
    "```\n",
    "\n",
    "- Saída: A soma dos elementos da lista vale: 15. Que soma pequena!\n",
    "\n",
    "# Funções recursivas\n",
    "\n",
    "Algumas funções são chamadas funções recursivas. A recursividade (ou recursão) é uma propriedade na qual uma função faz referência a si mesma. Quando a função encontra uma nova referência, ela irá pausar sua execução atual e iniciar a execução da nova instância, para só então retomar sua execução.\n",
    "\n",
    "Assim como nos loops, é necessário ter alguma condição para que as chamadas recursivas sejam interrompidas, evitando que executem para sempre.\n",
    "\n",
    "```\n",
    "def funcaoRecursiva(numero):\n",
    "    if (numero != 1):\n",
    "        funcaoRecursiva(numero - 1)\n",
    "    print(numero)\n",
    "\n",
    "print(\"Testando a função recursiva:\")\n",
    "funcaoRecursiva(10)\n",
    "```\n",
    "\n",
    "Note que no exemplo acima passamos 10 para a função. Sua execução foi interrompida por uma nova chamada passando 9, depois 8, depois 7... Ao chegar em 1, ele foge da condicional e imprime 1, encerrando a execução. Então a instância que recebeu 2 tambem conclui sua execução, depois a chamada 3, a 4... A 10, que foi a 1a chamada, encerra por último.\n",
    "\n",
    "Dizemos que é um comportamento de pilha - exatamente como uma pilha de pratos sobre a mesa: O primeiro prato que foi colocado sobre a mesa será o último a sair, pois todos os pratos colocados sobre ele precisam ser retirados antes de você poder retirar o último.\n",
    "\n",
    "Problemas recursivos normalmente são problemas do tipo \"dividir para conquistar\": Temos um \"caso base\", ou seja, um ou mais casos onde há uma resposta direta; E temos um \"caso geral\", que é uma versão reduzida do problema original."
   ]
  },
  {
   "cell_type": "code",
   "execution_count": 68,
   "id": "3fa3afb9",
   "metadata": {},
   "outputs": [],
   "source": [
    "def hello():\n",
    "    print('Olá, mundo!')"
   ]
  },
  {
   "cell_type": "code",
   "execution_count": 69,
   "id": "97993244",
   "metadata": {},
   "outputs": [
    {
     "name": "stdout",
     "output_type": "stream",
     "text": [
      "Olá, mundo!\n"
     ]
    }
   ],
   "source": [
    "hello()"
   ]
  },
  {
   "cell_type": "code",
   "execution_count": 70,
   "id": "36322cd2",
   "metadata": {},
   "outputs": [],
   "source": [
    "def calcula_media(valor1, valor2, valor3):\n",
    "    soma = valor1 + valor2 + valor3\n",
    "    media = soma / 3\n",
    "    return media"
   ]
  },
  {
   "cell_type": "code",
   "execution_count": 71,
   "id": "32b5abe1",
   "metadata": {},
   "outputs": [
    {
     "name": "stdout",
     "output_type": "stream",
     "text": [
      "10.0\n"
     ]
    }
   ],
   "source": [
    "resultado = calcula_media(10, 10, 10)\n",
    "print(resultado)"
   ]
  },
  {
   "cell_type": "code",
   "execution_count": 72,
   "id": "01154647",
   "metadata": {},
   "outputs": [
    {
     "name": "stdout",
     "output_type": "stream",
     "text": [
      "9.0\n"
     ]
    }
   ],
   "source": [
    "resultado = calcula_media(9, 10, 8)\n",
    "print(resultado)"
   ]
  },
  {
   "cell_type": "code",
   "execution_count": 73,
   "id": "dff19989",
   "metadata": {},
   "outputs": [
    {
     "name": "stdout",
     "output_type": "stream",
     "text": [
      "9.333333333333334\n"
     ]
    }
   ],
   "source": [
    "resultado2 = calcula_media(valor1=9, valor2=10, valor3=9)\n",
    "print(resultado2)"
   ]
  },
  {
   "cell_type": "code",
   "execution_count": 74,
   "id": "f330aaab",
   "metadata": {},
   "outputs": [
    {
     "name": "stdout",
     "output_type": "stream",
     "text": [
      "Olá , Andrea\n"
     ]
    }
   ],
   "source": [
    "print('Olá', end=' ')\n",
    "print(', Andrea')"
   ]
  },
  {
   "cell_type": "code",
   "execution_count": 75,
   "id": "bb7d0f5a",
   "metadata": {},
   "outputs": [],
   "source": [
    "def calcula_media(valor1=0, valor2=0, valor3=0):\n",
    "    soma = valor1 + valor2 + valor3\n",
    "    media = soma / 3\n",
    "    return media"
   ]
  },
  {
   "cell_type": "code",
   "execution_count": 76,
   "id": "7cdef9e5",
   "metadata": {},
   "outputs": [
    {
     "name": "stdout",
     "output_type": "stream",
     "text": [
      "0.0\n"
     ]
    }
   ],
   "source": [
    "resultado = calcula_media()\n",
    "print(resultado)"
   ]
  },
  {
   "cell_type": "markdown",
   "id": "4585b172",
   "metadata": {},
   "source": [
    "# Agrupando parâmetros\n",
    "\n",
    "Podemos utilizar o operador * - que, neste caso, não será uma multiplicação. Ao colocarmos o * ao lado do nome de um parâmetro na definição da função, estamos dizendo que aquele argumento será uma coleção. Mais especificamente, uma tupla. Porém, o usuário não irá passar uma tupla. Ele irá passar quantos argumentos ele quiser, e o Python automaticamente criará uma tupla com eles:\n",
    "\n",
    "```\n",
    "def piscina(*infos):\n",
    "    vol = infos[0]*infos[1]*infos[2]\n",
    "    return vol\n",
    "\n",
    "volume = piscina(5, 4, 5)\n",
    "\n",
    "print('O volume é: ', volume)\n",
    "```\n",
    "\n",
    "Podemos utilizar o operador * na chamada da função também. Na definição, o operador * indica que devemos agrupar itens avulsos em uma coleção. Na chamada, ele indica que uma coleção deve ser expandida em itens avulsos:\n",
    "\n",
    "```\n",
    "def piscina(prof, largura, comprimento):\n",
    "    vol = prof*largura*comprimento\n",
    "    return vol\n",
    "\n",
    "lista = [5, 4, 5]\n",
    "\n",
    "volume = piscina(*lista)\n",
    "\n",
    "print('O volume é: ', volume)\n",
    "```\n",
    "\n",
    "# Parâmetros opcionais\n",
    "\n",
    "Outra possibilidade são funções com parâmetros opcionais. Note que isso é diferente de termos quantidade variável de parâmetros. No caso da quantidade variável, normalmente são diversos parâmetros com a mesma utilidade (números a serem somados, valores a serem exibidos etc), enquanto os parâmetros opcionais são informações distintas que podem ou não ser passadas para a função.\n",
    "\n",
    "Para criar parâmetros opcionais, usaremos **, e os parâmetros passados serão agrupados em um dicionário: o nome do parâmetro será uma chave, e o valor será... O valor.\n",
    "\n",
    "```\n",
    "def piscina(prof, **infos):\n",
    "    vol = prof*infos['largura']*infos['comprimento']\n",
    "    return vol\n",
    "\n",
    "volume = piscina(5, largura=4, comprimento=5)\n",
    "\n",
    "print('O volume é: ', volume)\n",
    "```\n",
    "\n",
    "Analogamente ao caso dos parâmetros múltiplos, é possível que o usuário da função já tenha os dados organizados em um dicionário. Neste caso, basta usar ** na chamada da função para expandir o dicionário em vários parâmetros opcionais:\n",
    "\n",
    "```\n",
    "def piscina(prof, largura=4, comprimento=5):\n",
    "    vol = prof*largura*comprimento\n",
    "    return vol\n",
    "\n",
    "infos = {'largura': 10, 'comprimento': 20}\n",
    "\n",
    "volume = piscina(5, **infos)\n",
    "\n",
    "print('O volume é: ', volume)\n",
    "```"
   ]
  },
  {
   "cell_type": "code",
   "execution_count": 77,
   "id": "bfe5143f",
   "metadata": {},
   "outputs": [],
   "source": [
    "def calcula_media(valor1, valor2, valor3):\n",
    "    soma = valor1 + valor2 + valor3\n",
    "    media = soma / 3\n",
    "    return media"
   ]
  },
  {
   "cell_type": "code",
   "execution_count": 78,
   "id": "a2820af1",
   "metadata": {},
   "outputs": [],
   "source": [
    "def calcula_media(*args):\n",
    "    print(args, type(args))"
   ]
  },
  {
   "cell_type": "code",
   "execution_count": 79,
   "id": "e871d3ba",
   "metadata": {},
   "outputs": [
    {
     "name": "stdout",
     "output_type": "stream",
     "text": [
      "(10, 8, 9) <class 'tuple'>\n"
     ]
    }
   ],
   "source": [
    "calcula_media(10, 8, 9)"
   ]
  },
  {
   "cell_type": "code",
   "execution_count": 80,
   "id": "e4082686",
   "metadata": {},
   "outputs": [],
   "source": [
    "def calcula_media(*args):\n",
    "    soma = sum(args)\n",
    "    media = soma / len(args)\n",
    "    return media"
   ]
  },
  {
   "cell_type": "code",
   "execution_count": 81,
   "id": "b234327b",
   "metadata": {},
   "outputs": [
    {
     "data": {
      "text/plain": [
       "9.0"
      ]
     },
     "execution_count": 81,
     "metadata": {},
     "output_type": "execute_result"
    }
   ],
   "source": [
    "calcula_media(10, 8, 9)"
   ]
  },
  {
   "cell_type": "code",
   "execution_count": 82,
   "id": "b54c342e",
   "metadata": {},
   "outputs": [],
   "source": [
    "def calcula_media(*args, margem):\n",
    "    soma = sum(args)\n",
    "    media = soma / len(args)\n",
    "    return media + margem"
   ]
  },
  {
   "cell_type": "code",
   "execution_count": 83,
   "id": "41888cf3",
   "metadata": {},
   "outputs": [
    {
     "data": {
      "text/plain": [
       "9.3"
      ]
     },
     "execution_count": 83,
     "metadata": {},
     "output_type": "execute_result"
    }
   ],
   "source": [
    "calcula_media(10, 8, 9, margem=0.3)"
   ]
  },
  {
   "cell_type": "code",
   "execution_count": 84,
   "id": "8cac32cf",
   "metadata": {},
   "outputs": [],
   "source": [
    "def print_info(**kwargs):\n",
    "    print(kwargs, type(kwargs))"
   ]
  },
  {
   "cell_type": "code",
   "execution_count": 85,
   "id": "a7e24aea",
   "metadata": {},
   "outputs": [
    {
     "name": "stdout",
     "output_type": "stream",
     "text": [
      "{'nome': 'Pietro', 'sobrenome': 'Ribeiro'} <class 'dict'>\n"
     ]
    }
   ],
   "source": [
    "print_info(nome='Pietro', sobrenome='Ribeiro')"
   ]
  }
 ],
 "metadata": {
  "kernelspec": {
   "display_name": "Python 3 (ipykernel)",
   "language": "python",
   "name": "python3"
  },
  "language_info": {
   "codemirror_mode": {
    "name": "ipython",
    "version": 3
   },
   "file_extension": ".py",
   "mimetype": "text/x-python",
   "name": "python",
   "nbconvert_exporter": "python",
   "pygments_lexer": "ipython3",
   "version": "3.9.10"
  }
 },
 "nbformat": 4,
 "nbformat_minor": 5
}
